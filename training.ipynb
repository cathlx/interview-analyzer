{
 "cells": [
  {
   "cell_type": "code",
   "execution_count": 1,
   "metadata": {},
   "outputs": [],
   "source": [
    "import spacy\n",
    "\n",
    "from senticnet import senticnet\n",
    "from spacy import displacy\n",
    "from spacy.matcher import DependencyMatcher"
   ]
  },
  {
   "cell_type": "code",
   "execution_count": 2,
   "metadata": {},
   "outputs": [],
   "source": [
    "nlp = spacy.load(\"en_core_web_sm\")"
   ]
  },
  {
   "cell_type": "code",
   "execution_count": 3,
   "metadata": {},
   "outputs": [],
   "source": [
    "pattern = [\n",
    "  {\n",
    "    \"RIGHT_ID\": \"interviewee\",       \n",
    "    \"RIGHT_ATTRS\": {\"LOWER\": {\"IN\": [\"i\", \"me\", \"my\", \"mine\", \"myself\"]}}\n",
    "  },\n",
    "  {\n",
    "    \"LEFT_ID\": \"interviewee\",\n",
    "    \"REL_OP\": \"<<\",\n",
    "    \"RIGHT_ID\": \"interviewee parent\",\n",
    "    \"RIGHT_ATTRS\": {},\n",
    "  },\n",
    "  {\n",
    "    \"LEFT_ID\": \"interviewee parent\",\n",
    "    \"REL_OP\": \">>\",\n",
    "    \"RIGHT_ID\": \"description\",\n",
    "    \"RIGHT_ATTRS\": {\"POS\": {\"IN\": [\"ADJ\", \"ADV\", \"INTJ\", \"NOUN\", \"VERB\"]}},\n",
    "  }\n",
    "]\n",
    "\n",
    "matcher = DependencyMatcher(nlp.vocab)\n",
    "matcher.add(\"interviewee\", [pattern])"
   ]
  },
  {
   "cell_type": "code",
   "execution_count": 4,
   "metadata": {},
   "outputs": [],
   "source": [
    "def process_sentence(sent: str):\n",
    "    doc = nlp(sent)\n",
    "\n",
    "    matches = matcher(doc)\n",
    "\n",
    "    positivity = 0.0\n",
    "    negativity = 0.0\n",
    "\n",
    "    for match in matches:\n",
    "        for i in range(1, len(match[1])):\n",
    "            if doc[match[1][i]].lemma_ in senticnet.senticnet:\n",
    "                _, _, _, _, _, _, polarity_label, polarity_value, _, _, _, _, _ = senticnet.senticnet[doc[match[1][i]].lemma_]\n",
    "                if polarity_label == 'positive':\n",
    "                    positivity += polarity_value\n",
    "                else:\n",
    "                    negativity += polarity_value\n",
    "\n",
    "    inner = 0\n",
    "    outer = 0\n",
    "\n",
    "    for sent in doc.sents:\n",
    "        for word in sent:\n",
    "            if word.dep_ == 'nsubj' or word.dep_ == 'poss' or word.dep_ == 'attr':\n",
    "                if (word.pos_ == 'NOUN' or word.pos_ == 'PROPN') and word.dep_ != 'nsubjpass':\n",
    "                    outer += 1\n",
    "                elif word.pos_ == 'PRON':\n",
    "                    if word.morph.get('Person') == ['1']:\n",
    "                        inner += 1\n",
    "                    else:\n",
    "                        outer += 1\n",
    "            elif word.dep_ == 'dobj' or word.dep_ == 'iobj':\n",
    "                if word.pos_ == 'NOUN' or word.pos_ == 'PROPN':\n",
    "                    inner += 1\n",
    "                elif word.pos_ == 'PRON':\n",
    "                    if 'Person' in word.morph and word.morph.get('Person')[0] == '1':\n",
    "                        outer += 1\n",
    "                    else:\n",
    "                        inner += 1\n",
    "\n",
    "    return ' '.join([token.lemma_ for token in doc if not token.is_punct and not token.is_digit and (token.text.lower() == 'i' or not token.is_stop)]), positivity, negativity, inner, outer, inner / max(outer, 1), positivity * (inner - outer)\n",
    "    # return (positivity, negativity, inner, outer, inner / max(outer, 1), positivity * (inner - outer))\n",
    "    "
   ]
  },
  {
   "cell_type": "code",
   "execution_count": 2,
   "metadata": {},
   "outputs": [],
   "source": [
    "import pandas as pd\n",
    "\n",
    "df = pd.read_csv('data/data.csv')\n",
    "\n",
    "df.loc[df['ref'].str[0] == 'm', 'ref'] = 0 # neutral\n",
    "df.loc[df['ref'].str[0] == 'i', 'ref'] = 1 # internal\n",
    "df.loc[df['ref'].str[0] == 'e', 'ref'] = -1 # external\n",
    "df = df.astype({'ref': 'int32'})"
   ]
  },
  {
   "cell_type": "code",
   "execution_count": 8,
   "metadata": {},
   "outputs": [],
   "source": [
    "df[['lemmas', 'pos', 'neg', 'ext', 'int', 'in/out', 'ass_score']] = df['phrase'].apply(lambda x: pd.Series(process_sentence(x)))"
   ]
  },
  {
   "cell_type": "code",
   "execution_count": 51,
   "metadata": {},
   "outputs": [
    {
     "name": "stdout",
     "output_type": "stream",
     "text": [
      "              precision    recall  f1-score   support\n",
      "\n",
      "          -1       0.26      0.46      0.33        68\n",
      "           0       0.85      0.54      0.66       329\n",
      "           1       0.20      0.41      0.27        68\n",
      "\n",
      "    accuracy                           0.51       465\n",
      "   macro avg       0.44      0.47      0.42       465\n",
      "weighted avg       0.67      0.51      0.56       465\n",
      "\n"
     ]
    }
   ],
   "source": [
    "from sklearn.feature_extraction.text import TfidfVectorizer\n",
    "from sklearn.metrics import classification_report\n",
    "from sklearn.model_selection import train_test_split\n",
    "from sklearn.svm import SVC\n",
    "\n",
    "\n",
    "train_data, test_data, ref_train, ref_test = train_test_split(df[['lemmas', 'pos', 'neg', 'ext', 'int', 'in/out', 'ass_score']], df.ref, test_size=0.2, random_state=42)\n",
    "\n",
    "tf_idf_vectorizer = TfidfVectorizer()\n",
    "tf_idf_train = tf_idf_vectorizer.fit_transform(train_data.lemmas)\n",
    "tf_idf_test = tf_idf_vectorizer.transform(test_data.lemmas)\n",
    "\n",
    "tf_idf_train_df = pd.DataFrame(tf_idf_train.toarray(), columns=tf_idf_vectorizer.get_feature_names_out())\n",
    "train_features = pd.concat([tf_idf_train_df, train_data[['pos', 'neg', 'ext', 'int', 'in/out', 'ass_score']].reset_index()], axis=1)\n",
    "train_features.drop('index', axis=1, inplace=True)\n",
    "\n",
    "tf_idf_test_df = pd.DataFrame(tf_idf_test.toarray(), columns=tf_idf_vectorizer.get_feature_names_out())\n",
    "test_features = pd.concat([tf_idf_test_df, test_data[['pos', 'neg', 'ext', 'int', 'in/out', 'ass_score']].reset_index()], axis=1)\n",
    "test_features.drop('index', axis=1, inplace=True)\n",
    "\n",
    "svm = SVC(random_state=42)\n",
    "svm.fit(train_features.values, ref_train.values)\n",
    "\n",
    "ref_pred = svm.predict(test_features.values)\n",
    "\n",
    "print(classification_report(ref_pred, ref_test))"
   ]
  },
  {
   "cell_type": "code",
   "execution_count": 52,
   "metadata": {},
   "outputs": [],
   "source": [
    "from sklearn.model_selection import train_test_split\n",
    "\n",
    "train_data, test_data, ref_train, ref_test = train_test_split(df[['lemmas', 'pos', 'neg', 'ext', 'int', 'in/out', 'ass_score']], df.ref, test_size=0.2, random_state=42)\n",
    "train_data, val_data, ref_train, ref_val = train_test_split(train_data, ref_train, test_size=0.2, random_state=42)"
   ]
  },
  {
   "cell_type": "code",
   "execution_count": 53,
   "metadata": {},
   "outputs": [
    {
     "data": {
      "text/plain": [
       "((1484, 7), (372, 7), (465, 7))"
      ]
     },
     "execution_count": 53,
     "metadata": {},
     "output_type": "execute_result"
    }
   ],
   "source": [
    "train_data.shape, val_data.shape, test_data.shape"
   ]
  },
  {
   "cell_type": "code",
   "execution_count": 54,
   "metadata": {},
   "outputs": [],
   "source": [
    "from sklearn.feature_extraction.text import TfidfVectorizer\n",
    "\n",
    "tf_idf_vectorizer = TfidfVectorizer()\n",
    "tf_idf_train = tf_idf_vectorizer.fit_transform(train_data.lemmas)\n",
    "tf_idf_val = tf_idf_vectorizer.transform(val_data.lemmas)\n",
    "tf_idf_test = tf_idf_vectorizer.transform(test_data.lemmas)\n",
    "\n",
    "tf_idf_train_df = pd.DataFrame(tf_idf_train.toarray(), columns=tf_idf_vectorizer.get_feature_names_out())\n",
    "train_features = pd.concat([tf_idf_train_df, train_data[['pos', 'neg', 'ext', 'int', 'in/out', 'ass_score']].reset_index()], axis=1)\n",
    "train_features.drop('index', axis=1, inplace=True)\n",
    "\n",
    "tf_idf_val_df = pd.DataFrame(tf_idf_val.toarray(), columns=tf_idf_vectorizer.get_feature_names_out())\n",
    "val_features = pd.concat([tf_idf_val_df, val_data[['pos', 'neg', 'ext', 'int', 'in/out', 'ass_score']].reset_index()], axis=1)\n",
    "val_features.drop('index', axis=1, inplace=True)\n",
    "\n",
    "tf_idf_test_df = pd.DataFrame(tf_idf_test.toarray(), columns=tf_idf_vectorizer.get_feature_names_out())\n",
    "test_features = pd.concat([tf_idf_test_df, test_data[['pos', 'neg', 'ext', 'int', 'in/out', 'ass_score']].reset_index()], axis=1)\n",
    "test_features.drop('index', axis=1, inplace=True)"
   ]
  },
  {
   "cell_type": "code",
   "execution_count": 37,
   "metadata": {},
   "outputs": [],
   "source": [
    "import optuna\n",
    "\n",
    "from sklearn.metrics import f1_score\n",
    "from sklearn.svm import SVC\n",
    "\n",
    "\n",
    "def objective(trial):\n",
    "    C = trial.suggest_float('C', 1e-3, 10)\n",
    "    kernel = trial.suggest_categorical('kernel', ['linear', 'poly', 'rbf', 'sigmoid'])\n",
    "    svm = SVC(C=C, kernel=kernel, random_state=42)\n",
    "    svm.fit(train_features.values, ref_train.values)\n",
    "    ref_pred = svm.predict(val_features.values)\n",
    "    return f1_score(ref_pred, ref_val, average='micro')"
   ]
  },
  {
   "cell_type": "code",
   "execution_count": 38,
   "metadata": {},
   "outputs": [],
   "source": [
    "optuna.logging.set_verbosity(optuna.logging.WARNING)\n",
    "\n",
    "sampler = optuna.samplers.TPESampler(seed=42)\n",
    "study = optuna.create_study(direction='maximize', sampler=sampler)\n",
    "\n",
    "study.optimize(objective, n_trials=500)\n",
    "\n",
    "# print(f'finished {len(study.trials)} trials')\n",
    "# print('optimal C:', study.best_params['C'])\n",
    "# print(f'best f1 score: {study.best_value}')"
   ]
  },
  {
   "cell_type": "code",
   "execution_count": 34,
   "metadata": {},
   "outputs": [
    {
     "data": {
      "text/plain": [
       "(0.7721440882956117, 'linear')"
      ]
     },
     "execution_count": 34,
     "metadata": {},
     "output_type": "execute_result"
    }
   ],
   "source": [
    "study.best_params['C'], study.best_params['kernel']"
   ]
  },
  {
   "cell_type": "code",
   "execution_count": 41,
   "metadata": {},
   "outputs": [],
   "source": [
    "svm = SVC(C=study.best_params['C'], kernel=study.best_params['kernel'], random_state=42)\n",
    "svm.fit(train_features.values, ref_train.values)\n",
    "\n",
    "ref_pred = svm.predict(test_features.values)"
   ]
  },
  {
   "cell_type": "code",
   "execution_count": 32,
   "metadata": {},
   "outputs": [
    {
     "name": "stdout",
     "output_type": "stream",
     "text": [
      "              precision    recall  f1-score   support\n",
      "\n",
      "          -1       0.77      0.78      0.77       117\n",
      "           0       0.88      0.79      0.83       234\n",
      "           1       0.64      0.76      0.69       114\n",
      "\n",
      "    accuracy                           0.78       465\n",
      "   macro avg       0.76      0.78      0.77       465\n",
      "weighted avg       0.79      0.78      0.78       465\n",
      "\n"
     ]
    }
   ],
   "source": [
    "from sklearn.metrics import classification_report\n",
    "\n",
    "print(classification_report(ref_pred, ref_test))"
   ]
  },
  {
   "cell_type": "code",
   "execution_count": 57,
   "metadata": {},
   "outputs": [
    {
     "data": {
      "image/png": "[encoded data removed]",
      "text/plain": [
       "<Figure size 640x480 with 1 Axes>"
      ]
     },
     "metadata": {},
     "output_type": "display_data"
    }
   ],
   "source": [
    "import matplotlib.pyplot as plt\n",
    "import seaborn as sns\n",
    "from sklearn.metrics import confusion_matrix\n",
    "\n",
    "confusion = confusion_matrix(ref_pred, ref_test, labels=[-1, 0, 1])\n",
    "\n",
    "sns.heatmap(confusion, annot=True, fmt='d', cmap=\"Blues\", cbar=False, xticklabels=['external', 'mixed', 'internal'], yticklabels=['external', 'mixed', 'internal'])\n",
    "plt.title('Confusion Matrix')\n",
    "plt.ylabel('True reference')\n",
    "plt.xlabel('Predicted reference')\n",
    "plt.show()"
   ]
  },
  {
   "cell_type": "code",
   "execution_count": 58,
   "metadata": {},
   "outputs": [
    {
     "data": {
      "text/plain": [
       "['vectorizer.pkl']"
      ]
     },
     "execution_count": 58,
     "metadata": {},
     "output_type": "execute_result"
    }
   ],
   "source": [
    "import joblib\n",
    "joblib.dump(svm, 'model/svm_model.pkl')\n",
    "joblib.dump(tf_idf_vectorizer, 'model/vectorizer.pkl')"
   ]
  }
 ],
 "metadata": {
  "kernelspec": {
   "display_name": "base",
   "language": "python",
   "name": "python3"
  },
  "language_info": {
   "codemirror_mode": {
    "name": "ipython",
    "version": 3
   },
   "file_extension": ".py",
   "mimetype": "text/x-python",
   "name": "python",
   "nbconvert_exporter": "python",
   "pygments_lexer": "ipython3",
   "version": "3.11.8"
  }
 },
 "nbformat": 4,
 "nbformat_minor": 2
}
